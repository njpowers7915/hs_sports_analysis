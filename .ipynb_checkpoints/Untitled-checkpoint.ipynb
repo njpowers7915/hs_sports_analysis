{
 "cells": [
  {
   "cell_type": "markdown",
   "metadata": {},
   "source": [
    "# High School Sports Analysis"
   ]
  },
  {
   "cell_type": "code",
   "execution_count": 4,
   "metadata": {},
   "outputs": [],
   "source": [
    "import pandas as pd\n",
    "participation_df = pd.read_excel('hs_sports_data.xlsx', index_col = 0)"
   ]
  },
  {
   "cell_type": "code",
   "execution_count": 5,
   "metadata": {},
   "outputs": [
    {
     "data": {
      "text/html": [
       "<div>\n",
       "<style scoped>\n",
       "    .dataframe tbody tr th:only-of-type {\n",
       "        vertical-align: middle;\n",
       "    }\n",
       "\n",
       "    .dataframe tbody tr th {\n",
       "        vertical-align: top;\n",
       "    }\n",
       "\n",
       "    .dataframe thead th {\n",
       "        text-align: right;\n",
       "    }\n",
       "</style>\n",
       "<table border=\"1\" class=\"dataframe\">\n",
       "  <thead>\n",
       "    <tr style=\"text-align: right;\">\n",
       "      <th></th>\n",
       "      <th>State</th>\n",
       "      <th>Sport</th>\n",
       "      <th>Boys School</th>\n",
       "      <th>Girls School</th>\n",
       "      <th>Boys Participation</th>\n",
       "      <th>Girls Participation</th>\n",
       "    </tr>\n",
       "    <tr>\n",
       "      <th>Year</th>\n",
       "      <th></th>\n",
       "      <th></th>\n",
       "      <th></th>\n",
       "      <th></th>\n",
       "      <th></th>\n",
       "      <th></th>\n",
       "    </tr>\n",
       "  </thead>\n",
       "  <tbody>\n",
       "    <tr>\n",
       "      <th>2018/2019</th>\n",
       "      <td>AL</td>\n",
       "      <td>Adapted Basketball</td>\n",
       "      <td>0.0</td>\n",
       "      <td>0.0</td>\n",
       "      <td>0.0</td>\n",
       "      <td>0.0</td>\n",
       "    </tr>\n",
       "    <tr>\n",
       "      <th>2018/2019</th>\n",
       "      <td>AL</td>\n",
       "      <td>Adapted Bocce - Indoor</td>\n",
       "      <td>0.0</td>\n",
       "      <td>0.0</td>\n",
       "      <td>0.0</td>\n",
       "      <td>0.0</td>\n",
       "    </tr>\n",
       "    <tr>\n",
       "      <th>2018/2019</th>\n",
       "      <td>AL</td>\n",
       "      <td>Adapted Bowling</td>\n",
       "      <td>0.0</td>\n",
       "      <td>0.0</td>\n",
       "      <td>0.0</td>\n",
       "      <td>0.0</td>\n",
       "    </tr>\n",
       "    <tr>\n",
       "      <th>2018/2019</th>\n",
       "      <td>AL</td>\n",
       "      <td>Adapted Floor Hockey</td>\n",
       "      <td>0.0</td>\n",
       "      <td>0.0</td>\n",
       "      <td>0.0</td>\n",
       "      <td>0.0</td>\n",
       "    </tr>\n",
       "    <tr>\n",
       "      <th>2018/2019</th>\n",
       "      <td>AL</td>\n",
       "      <td>Adapted Soccer</td>\n",
       "      <td>0.0</td>\n",
       "      <td>0.0</td>\n",
       "      <td>0.0</td>\n",
       "      <td>0.0</td>\n",
       "    </tr>\n",
       "  </tbody>\n",
       "</table>\n",
       "</div>"
      ],
      "text/plain": [
       "          State                   Sport  Boys School  Girls School  \\\n",
       "Year                                                                 \n",
       "2018/2019    AL      Adapted Basketball          0.0           0.0   \n",
       "2018/2019    AL  Adapted Bocce - Indoor          0.0           0.0   \n",
       "2018/2019    AL         Adapted Bowling          0.0           0.0   \n",
       "2018/2019    AL    Adapted Floor Hockey          0.0           0.0   \n",
       "2018/2019    AL          Adapted Soccer          0.0           0.0   \n",
       "\n",
       "           Boys Participation  Girls Participation  \n",
       "Year                                                \n",
       "2018/2019                 0.0                  0.0  \n",
       "2018/2019                 0.0                  0.0  \n",
       "2018/2019                 0.0                  0.0  \n",
       "2018/2019                 0.0                  0.0  \n",
       "2018/2019                 0.0                  0.0  "
      ]
     },
     "execution_count": 5,
     "metadata": {},
     "output_type": "execute_result"
    }
   ],
   "source": [
    "participation_df.head()"
   ]
  },
  {
   "cell_type": "code",
   "execution_count": null,
   "metadata": {},
   "outputs": [],
   "source": []
  }
 ],
 "metadata": {
  "kernelspec": {
   "display_name": "Python 3",
   "language": "python",
   "name": "python3"
  },
  "language_info": {
   "codemirror_mode": {
    "name": "ipython",
    "version": 3
   },
   "file_extension": ".py",
   "mimetype": "text/x-python",
   "name": "python",
   "nbconvert_exporter": "python",
   "pygments_lexer": "ipython3",
   "version": "3.7.2"
  }
 },
 "nbformat": 4,
 "nbformat_minor": 2
}
